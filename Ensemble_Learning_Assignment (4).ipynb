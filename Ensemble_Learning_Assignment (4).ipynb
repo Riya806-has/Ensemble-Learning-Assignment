{
  "nbformat": 4,
  "nbformat_minor": 0,
  "metadata": {
    "colab": {
      "provenance": []
    },
    "kernelspec": {
      "name": "python3",
      "display_name": "Python 3"
    },
    "language_info": {
      "name": "python"
    }
  },
  "cells": [
    {
      "cell_type": "code",
      "source": [
        "# Question 10: You are working as a data scientist at a financial institution to predict loan default. You have access to customer demographic and transaction history data. You decide to use ensemble techniques to increase model performance.\n",
        "# Explain your step-by-step approach to:\n",
        "# ● Choose between Bagging or Boosting\n",
        "# ● Handle overfitting\n",
        "# ● Select base models\n",
        "# ● Evaluate performance using cross-validation\n",
        "# ● Justify how ensemble learning improves decision-making in this real-world context.\n",
        "# (Include your Python code and output in the code box below.)\n",
        "\n",
        "\n",
        "import numpy as np\n",
        "import pandas as pd\n",
        "from sklearn.datasets import make_classification\n",
        "from sklearn.model_selection import StratifiedKFold\n",
        "from sklearn.metrics import roc_auc_score, precision_score, recall_score, f1_score\n",
        "import lightgbm as lgb\n",
        "\n",
        "# Synthetic dataset simulating loan default (imbalanced)\n",
        "X, y = make_classification(\n",
        "    n_samples=5000,\n",
        "    n_features=20,\n",
        "    n_informative=10,\n",
        "    n_redundant=5,\n",
        "    n_clusters_per_class=2,\n",
        "    weights=[0.85, 0.15],  # Imbalanced: 15% defaults\n",
        "    random_state=42\n",
        ")\n",
        "\n",
        "# Prepare Stratified K-Fold\n",
        "skf = StratifiedKFold(n_splits=5, shuffle=True, random_state=42)\n",
        "\n",
        "# Store metrics\n",
        "auc_scores = []\n",
        "precision_scores = []\n",
        "recall_scores = []\n",
        "f1_scores = []\n",
        "\n",
        "for train_idx, val_idx in skf.split(X, y):\n",
        "    X_train, X_val = X[train_idx], X[val_idx]\n",
        "    y_train, y_val = y[train_idx], y[val_idx]\n",
        "\n",
        "    # Create LightGBM dataset\n",
        "    train_data = lgb.Dataset(X_train, label=y_train)\n",
        "    val_data = lgb.Dataset(X_val, label=y_val, reference=train_data)\n",
        "\n",
        "    # Parameters for LightGBM (Boosting)\n",
        "    params = {\n",
        "        'objective': 'binary',\n",
        "        'metric': 'auc',\n",
        "        'boosting_type': 'gbdt',\n",
        "        'learning_rate': 0.05,\n",
        "        'num_leaves': 31,\n",
        "        'max_depth': 6,\n",
        "        'verbose': -1,\n",
        "        'seed': 42,\n",
        "        'is_unbalance': True,  # Handle class imbalance\n",
        "    }\n",
        "\n",
        "    # Train with early stopping\n",
        "    model = lgb.train(\n",
        "        params,\n",
        "        train_data,\n",
        "        num_boost_round=500,\n",
        "        valid_sets=[val_data],\n",
        "        callbacks=[lgb.early_stopping(stopping_rounds=50, verbose=False)]\n",
        "    )\n",
        "\n",
        "    # Predict probabilities\n",
        "    y_pred_proba = model.predict(X_val, num_iteration=model.best_iteration)\n",
        "    y_pred = (y_pred_proba > 0.5).astype(int)\n",
        "\n",
        "    # Evaluate\n",
        "    auc_scores.append(roc_auc_score(y_val, y_pred_proba))\n",
        "    precision_scores.append(precision_score(y_val, y_pred))\n",
        "    recall_scores.append(recall_score(y_val, y_pred))\n",
        "    f1_scores.append(f1_score(y_val, y_pred))\n",
        "\n",
        "# Print average scores across folds\n",
        "print(f\"Average ROC AUC: {np.mean(auc_scores):.4f}\")\n",
        "print(f\"Average Precision: {np.mean(precision_scores):.4f}\")\n",
        "print(f\"Average Recall: {np.mean(recall_scores):.4f}\")\n",
        "print(f\"Average F1-Score: {np.mean(f1_scores):.4f}\")"
      ],
      "metadata": {
        "colab": {
          "base_uri": "https://localhost:8080/"
        },
        "id": "jtEyUi-fYZGs",
        "outputId": "792c1352-f0c4-439d-aab0-7b0683e077e3"
      },
      "execution_count": 8,
      "outputs": [
        {
          "output_type": "stream",
          "name": "stdout",
          "text": [
            "Average ROC AUC: 0.9708\n",
            "Average Precision: 0.9077\n",
            "Average Recall: 0.8474\n",
            "Average F1-Score: 0.8762\n"
          ]
        }
      ]
    }
  ]
}